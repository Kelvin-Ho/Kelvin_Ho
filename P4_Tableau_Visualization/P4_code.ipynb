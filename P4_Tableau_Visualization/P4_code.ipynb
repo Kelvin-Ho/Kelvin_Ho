{
 "cells": [
  {
   "cell_type": "code",
   "execution_count": 1,
   "metadata": {},
   "outputs": [],
   "source": [
    "import numpy as np\n",
    "import pandas as pd"
   ]
  },
  {
   "cell_type": "code",
   "execution_count": 2,
   "metadata": {},
   "outputs": [],
   "source": [
    "data = pd.read_csv('mobike_shanghai_sample_updated')"
   ]
  },
  {
   "cell_type": "code",
   "execution_count": 3,
   "metadata": {},
   "outputs": [
    {
     "name": "stdout",
     "output_type": "stream",
     "text": [
      "<class 'pandas.core.frame.DataFrame'>\n",
      "RangeIndex: 102361 entries, 0 to 102360\n",
      "Data columns (total 10 columns):\n",
      "orderid             102361 non-null int64\n",
      "bikeid              102361 non-null int64\n",
      "userid              102361 non-null int64\n",
      "start_time          102361 non-null object\n",
      "start_location_x    102361 non-null float64\n",
      "start_location_y    102361 non-null float64\n",
      "end_time            102361 non-null object\n",
      "end_location_x      102361 non-null float64\n",
      "end_location_y      102361 non-null float64\n",
      "track               102361 non-null object\n",
      "dtypes: float64(4), int64(3), object(3)\n",
      "memory usage: 7.8+ MB\n"
     ]
    }
   ],
   "source": [
    "data.info()"
   ]
  },
  {
   "cell_type": "markdown",
   "metadata": {},
   "source": [
    "#### 计算bikeid的统计数量"
   ]
  },
  {
   "cell_type": "code",
   "execution_count": 55,
   "metadata": {},
   "outputs": [],
   "source": [
    "df_counts = data['bikeid'].value_counts().reset_index()\n",
    "df_counts = df_counts.rename(columns={'bikeid': 'counts', 'index':'bikeid'})"
   ]
  },
  {
   "cell_type": "code",
   "execution_count": 47,
   "metadata": {},
   "outputs": [],
   "source": [
    "df_counts.to_csv('mobike_shanghai_bikeid_counts.csv', index=False)"
   ]
  },
  {
   "cell_type": "markdown",
   "metadata": {},
   "source": [
    "#### 计算userid的统计数量"
   ]
  },
  {
   "cell_type": "code",
   "execution_count": 57,
   "metadata": {},
   "outputs": [],
   "source": [
    "userid_count = data['userid'].value_counts().reset_index()\n",
    "userid_count = userid_count.rename(columns={'userid': 'counts', 'index': 'userid'})"
   ]
  },
  {
   "cell_type": "code",
   "execution_count": 54,
   "metadata": {},
   "outputs": [],
   "source": [
    "userid_count.to_csv('userid_counts.csv', index=False)"
   ]
  }
 ],
 "metadata": {
  "kernelspec": {
   "display_name": "Python 3",
   "language": "python",
   "name": "python3"
  },
  "language_info": {
   "codemirror_mode": {
    "name": "ipython",
    "version": 3
   },
   "file_extension": ".py",
   "mimetype": "text/x-python",
   "name": "python",
   "nbconvert_exporter": "python",
   "pygments_lexer": "ipython3",
   "version": "3.6.5"
  }
 },
 "nbformat": 4,
 "nbformat_minor": 2
}
