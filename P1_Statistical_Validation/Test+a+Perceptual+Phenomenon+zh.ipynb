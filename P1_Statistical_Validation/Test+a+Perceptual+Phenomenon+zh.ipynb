{
 "cells": [
  {
   "cell_type": "markdown",
   "metadata": {},
   "source": [
    "### 统计学：检验心理学现象\n",
    "\n",
    "在下方单元格中回答问题并执行相关代码，你可以 [参考项目指导](https://github.com/udacity/new-dand-advanced-china/blob/master/%E6%A3%80%E9%AA%8C%E5%BF%83%E7%90%86%E5%AD%A6%E7%8E%B0%E8%B1%A1/%E7%BB%9F%E8%AE%A1%E5%AD%A6%EF%BC%9A%E6%A3%80%E9%AA%8C%E5%BF%83%E7%90%86%E5%AD%A6%E7%8E%B0%E8%B1%A1.md) 并在正式提交前查看 [项目要求](https://review.udacity.com/#!/rubrics/305/view)。提交时请将 Jupyter notebook 导出成 HTML 或者 PDF 进行提交（File -> Download As）。\n",
    "\n",
    "背景信息\n",
    "\n",
    "在一个Stroop （斯特鲁普）任务中，参与者得到了一列文字，每个文字都用一种油墨颜色展示。参与者的任务是将文字的打印颜色大声说出来。这项任务有两个条件：一致文字条件，和不一致文字条件。在一致文字条件中，显示的文字是与它们的打印颜色匹配的颜色词，如“红色”、“蓝色”。在不一致文字条件中，显示的文字是与它们的打印颜色不匹配的颜色词，如“紫色”、“橙色”。在每个情况中，我们将计量说出同等大小的列表中的墨色名称的时间。每位参与者必须全部完成并记录每种条件下使用的时间。\n",
    "\n",
    "调查问题\n",
    "\n",
    "作为一般说明，请确保记录你在创建项目时使用或参考的任何资源。作为项目提交的一部分，你将需要报告信息来源。\n",
    "\n",
    "(1) 我们的自变量是什么？因变量是什么？"
   ]
  },
  {
   "cell_type": "markdown",
   "metadata": {},
   "source": [
    "--答案写这里--\n",
    "\n",
    "- 自变量：文字条件，即文字的颜色词与幽默颜色是否一致。比如‘红色’词用的红色油墨表示一致，‘绿色’词用的蓝色油墨表示不一致；\n",
    "- 因变量：每位参与者念出同等大小的列表的文字墨色名称的时间；"
   ]
  },
  {
   "cell_type": "markdown",
   "metadata": {},
   "source": [
    "(2) 此任务的适当假设集是什么？你需要以文字和数学符号方式对假设集中的零假设和对立假设加以说明，并对数学符号进行定义。你想执行什么类型的统计检验？为你的选择提供正当理由（比如，为何该实验满足你所选统计检验的前置条件）。"
   ]
  },
  {
   "cell_type": "markdown",
   "metadata": {},
   "source": [
    "--答案写这里--  \n",
    "\n",
    "- 假设：   \n",
    "   定义μ0为在一致的文字条件下念出油墨颜色的平均时间，定义μ为在不一致的文字条件下念出油墨颜色的平均时间。μ和μ0代表的是均值，针对的是总体。  \n",
    "   **零假设（H0）：**在两种不同文字条件下念出文字油墨颜色的时间没有显著差异，即：   \n",
    "   μ=μ0；  \n",
    "   **对立假设（H1）：**在两种不同文字条件下念出文字油墨颜色的时间具有显著差异，即：  \n",
    "   μ≠μ0（双侧检验）  \n",
    "   **显著水平：**0.05\n",
    "   \n",
    "   \n",
    "- 选择统计检验类型：双总体配对样本t检验。理由：在Stroop实验中，可获得的数据是两个样本（两种不同文字条件下念出油墨颜色名称的时间），并且需要比较二者代表的总体的差异性，而总体的标准差是未知的，因此满足双总体t检验的条件。此外进行两种实验的对象是相同的，两种情况组成的样本为相关样本，所以适用于配对样本t检验。"
   ]
  },
  {
   "cell_type": "markdown",
   "metadata": {},
   "source": [
    "现在轮到你自行尝试 Stroop 任务了。前往此链接，其中包含一个基于 Java 的小程序，专门用于执行 Stroop 任务。记录你收到的任务时间（你无需将时间提交到网站）。现在下载此数据集，其中包含一些任务参与者的结果。数据集的每行包含一名参与者的表现，第一个数字代表他们的一致任务结果，第二个数字代表不一致任务结果。\n",
    "\n",
    "(3) 报告关于此数据集的一些描述性统计。包含至少一个集中趋势测量和至少一个变异测量。"
   ]
  },
  {
   "cell_type": "code",
   "execution_count": 1,
   "metadata": {},
   "outputs": [
    {
     "data": {
      "text/html": [
       "<div>\n",
       "<style>\n",
       "    .dataframe thead tr:only-child th {\n",
       "        text-align: right;\n",
       "    }\n",
       "\n",
       "    .dataframe thead th {\n",
       "        text-align: left;\n",
       "    }\n",
       "\n",
       "    .dataframe tbody tr th {\n",
       "        vertical-align: top;\n",
       "    }\n",
       "</style>\n",
       "<table border=\"1\" class=\"dataframe\">\n",
       "  <thead>\n",
       "    <tr style=\"text-align: right;\">\n",
       "      <th></th>\n",
       "      <th>Congruent</th>\n",
       "      <th>Incongruent</th>\n",
       "    </tr>\n",
       "  </thead>\n",
       "  <tbody>\n",
       "    <tr>\n",
       "      <th>count</th>\n",
       "      <td>24.000000</td>\n",
       "      <td>24.000000</td>\n",
       "    </tr>\n",
       "    <tr>\n",
       "      <th>mean</th>\n",
       "      <td>14.051125</td>\n",
       "      <td>22.015917</td>\n",
       "    </tr>\n",
       "    <tr>\n",
       "      <th>std</th>\n",
       "      <td>3.559358</td>\n",
       "      <td>4.797057</td>\n",
       "    </tr>\n",
       "    <tr>\n",
       "      <th>min</th>\n",
       "      <td>8.630000</td>\n",
       "      <td>15.687000</td>\n",
       "    </tr>\n",
       "    <tr>\n",
       "      <th>25%</th>\n",
       "      <td>11.895250</td>\n",
       "      <td>18.716750</td>\n",
       "    </tr>\n",
       "    <tr>\n",
       "      <th>50%</th>\n",
       "      <td>14.356500</td>\n",
       "      <td>21.017500</td>\n",
       "    </tr>\n",
       "    <tr>\n",
       "      <th>75%</th>\n",
       "      <td>16.200750</td>\n",
       "      <td>24.051500</td>\n",
       "    </tr>\n",
       "    <tr>\n",
       "      <th>max</th>\n",
       "      <td>22.328000</td>\n",
       "      <td>35.255000</td>\n",
       "    </tr>\n",
       "  </tbody>\n",
       "</table>\n",
       "</div>"
      ],
      "text/plain": [
       "       Congruent  Incongruent\n",
       "count  24.000000    24.000000\n",
       "mean   14.051125    22.015917\n",
       "std     3.559358     4.797057\n",
       "min     8.630000    15.687000\n",
       "25%    11.895250    18.716750\n",
       "50%    14.356500    21.017500\n",
       "75%    16.200750    24.051500\n",
       "max    22.328000    35.255000"
      ]
     },
     "execution_count": 1,
     "metadata": {},
     "output_type": "execute_result"
    }
   ],
   "source": [
    "# 在这里执行你的分析\n",
    "import numpy as np\n",
    "import pandas as pd\n",
    "data = pd.read_csv(\"stroopdata.csv\")\n",
    "data.describe()"
   ]
  },
  {
   "cell_type": "markdown",
   "metadata": {},
   "source": [
    "--答案写这里--\n",
    "\n",
    "- \"一致文字条件\"样本：   \n",
    "均值：14.05  \n",
    "中位数：14.36  \n",
    "标准偏差：3.56  \n",
    "四分位差：4.30\n",
    "\n",
    "\n",
    "- \"非一致文字条件\"样本：  \n",
    "   均值：22.01  \n",
    "   中位数：21.02  \n",
    "   标准偏差：4.80  \n",
    "   四分位差：5.33\n",
    "   "
   ]
  },
  {
   "cell_type": "markdown",
   "metadata": {},
   "source": [
    "(4) 提供显示样本数据分布的一个或两个可视化。用一两句话说明你从图中观察到的结果。"
   ]
  },
  {
   "cell_type": "code",
   "execution_count": 2,
   "metadata": {},
   "outputs": [],
   "source": [
    "# 在这里创建可视化图表\n",
    "import seaborn as sb\n",
    "import matplotlib.pyplot as plt\n",
    "data[['Congruent','Incongruent']].plot(kind='kde');"
   ]
  },
  {
   "cell_type": "code",
   "execution_count": 3,
   "metadata": {},
   "outputs": [
    {
     "data": {
      "image/png": "[encoded data removed]",
      "text/plain": [
       "<matplotlib.figure.Figure at 0x7f7be8041668>"
      ]
     },
     "metadata": {
      "needs_background": "light"
     },
     "output_type": "display_data"
    }
   ],
   "source": [
    "data[['Congruent','Incongruent']].plot(kind='box');"
   ]
  },
  {
   "cell_type": "markdown",
   "metadata": {},
   "source": [
    "--答案写这里--  \n",
    "- ‘一致文字条件’样本呈正态分布，‘非一致文字条件’样本大体也呈正态分布，只是在最大值方向有少量异常值。  \n",
    "- 两个样本的分布有一定的重复区域，‘非一致文字条件’均值要大一些。  \n",
    "- ‘一致文字条件’样本显得稍微更瘦，‘非一致文字条件’样本的分布更宽。"
   ]
  },
  {
   "cell_type": "markdown",
   "metadata": {},
   "source": [
    "(5) 现在，执行统计测试并报告你的结果。你的置信水平和关键统计值是多少？你是否成功拒绝零假设？对试验任务得出一个结论。结果是否与你的期望一致？"
   ]
  },
  {
   "cell_type": "code",
   "execution_count": 4,
   "metadata": {},
   "outputs": [
    {
     "name": "stdout",
     "output_type": "stream",
     "text": [
      "t统计值为-8.02, 概率为4.103001e-08\n",
      "置信区间为(-10.02, -5.91)\n"
     ]
    }
   ],
   "source": [
    "# 在这里执行统计检验\n",
    "from scipy import stats\n",
    "\n",
    "# ‘一致文字条件’称为样本1，‘非一致文字条件’称为样本2\n",
    "\n",
    "# 样本1和样本2的均值\n",
    "mean_1 = data['Congruent'].mean()\n",
    "mean_2 = data['Incongruent'].mean()\n",
    "\n",
    "# 样本1和样本2的均值差\n",
    "M = mean_1 - mean_2\n",
    "\n",
    "# 数据集增加一列为样本1与样本2的差值\n",
    "data['diff'] = data['Congruent'] - data['Incongruent']\n",
    "\n",
    "# 数据集增加一列为每项差值与均值差值的差值平方\n",
    "data['diff_square'] = (data['diff'] - M) ** 2\n",
    "\n",
    "# 自由度\n",
    "df = data.shape[0] - 1\n",
    "\n",
    "# 计算差值的标准差\n",
    "sd = np.sqrt((data['diff_square'].sum()) / df)\n",
    "\n",
    "# 计算t值和p值\n",
    "t, p= stats.ttest_rel(data['Congruent'], data['Incongruent'])\n",
    "#t = M / (sd / np.sqrt(data.shape[0]))\n",
    "\n",
    "\n",
    "# 查表t0值，假设显著水平为0.05，基于双侧检验，\n",
    "t0 = 2.069\n",
    "\n",
    "# 计算置信区间\n",
    "CI_left = M - t0 * sd / np.sqrt(data.shape[0])\n",
    "CI_right = M + t0 * sd / np.sqrt(data.shape[0])\n",
    "\n",
    "print(\"t统计值为%.2f, 概率为%e\" %(t,p))\n",
    "print(\"置信区间为(%.2f, %.2f)\" %(CI_left, CI_right))\n",
    "\n",
    "#print(mean_1,mean_2,M,df,sd,t,CI_left,CI_right)"
   ]
  },
  {
   "cell_type": "markdown",
   "metadata": {},
   "source": [
    "--答案写这里--\n",
    "从计算结果来看，t统计值的绝对值远大于t0，概率远小于显著水平0.5，表示成功拒绝了零假设，即在两种不同的文字条件下说出文字油墨颜色名称的时间具有显著的差异。此结论与我的期望着是一致的。\n",
    "\n"
   ]
  }
 ],
 "metadata": {
  "anaconda-cloud": {},
  "kernelspec": {
   "display_name": "Python 3",
   "language": "python",
   "name": "python3"
  },
  "language_info": {
   "codemirror_mode": {
    "name": "ipython",
    "version": 3
   },
   "file_extension": ".py",
   "mimetype": "text/x-python",
   "name": "python",
   "nbconvert_exporter": "python",
   "pygments_lexer": "ipython3",
   "version": "3.6.3"
  }
 },
 "nbformat": 4,
 "nbformat_minor": 2
}
